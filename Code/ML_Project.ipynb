{
 "cells": [
  {
   "cell_type": "code",
   "execution_count": null,
   "metadata": {
    "id": "n_6Z027cXmq0",
    "pycharm": {
     "is_executing": true
    }
   },
   "outputs": [],
   "source": [
    "import pandas as pd\n",
    "import numpy as np\n",
    "from sklearn.feature_extraction.text import CountVectorizer,TfidfVectorizer\n",
    "from sklearn.base import TransformerMixin\n",
    "from sklearn.pipeline import Pipeline\n",
    "from matplotlib import pyplot as plt\n",
    "import spacy"
   ]
  },
  {
   "cell_type": "code",
   "execution_count": null,
   "metadata": {
    "id": "Og84cm--XW60",
    "pycharm": {
     "is_executing": true
    }
   },
   "outputs": [],
   "source": [
    "# Importing the datasets\n",
    "df_train= pd.read_csv(\"https://raw.githubusercontent.com/alexerne-git/ML-Zoom/master/Data/training_data.csv\")\n",
    "df_test = pd.read_csv(\"https://raw.githubusercontent.com/alexerne-git/ML-Zoom/master/Data/test_data.csv\")\n",
    "\n"
   ]
  },
  {
   "cell_type": "code",
   "execution_count": null,
   "metadata": {
    "pycharm": {
     "is_executing": true
    }
   },
   "outputs": [],
   "source": [
    "df_train.head(10)"
   ]
  },
  {
   "cell_type": "code",
   "execution_count": null,
   "metadata": {
    "pycharm": {
     "is_executing": true
    }
   },
   "outputs": [],
   "source": [
    "df_train.shape"
   ]
  },
  {
   "cell_type": "code",
   "execution_count": null,
   "metadata": {
    "pycharm": {
     "is_executing": true
    }
   },
   "outputs": [],
   "source": [
    "df_train.info()"
   ]
  },
  {
   "cell_type": "code",
   "execution_count": null,
   "metadata": {
    "pycharm": {
     "is_executing": true
    }
   },
   "outputs": [],
   "source": [
    "df_train"
   ]
  },
  {
   "cell_type": "code",
   "execution_count": null,
   "metadata": {
    "pycharm": {
     "is_executing": true
    }
   },
   "outputs": [],
   "source": [
    "df_test"
   ]
  },
  {
   "cell_type": "markdown",
   "metadata": {
    "id": "xXbqA0C7WyAY"
   },
   "source": [
    "# An aventure in the data"
   ]
  },
  {
   "cell_type": "markdown",
   "metadata": {
    "id": "FXs6M8b4W2xM"
   },
   "source": [
    "We want to understand a little more about our data.\n",
    "\n",
    "Distribution, similarity between the test set and the train set, missing values and other stuff.\n",
    "\n",
    "\n"
   ]
  },
  {
   "cell_type": "markdown",
   "metadata": {
    "id": "xntwztdYdJoj"
   },
   "source": [
    "## Location"
   ]
  },
  {
   "cell_type": "code",
   "execution_count": null,
   "metadata": {
    "colab": {
     "base_uri": "https://localhost:8080/",
     "height": 265
    },
    "id": "22J8VWYjdQKj",
    "outputId": "6a3453b0-7794-4b80-dd06-60ee9a999923",
    "pycharm": {
     "is_executing": true
    }
   },
   "outputs": [],
   "source": [
    "# Plot NaN values to see the distribution\n",
    "\n",
    "NAn= len(df_train.location[df_train[\"location\"].isnull()==True])\n",
    "Val= len(df_train.location)-NAn\n",
    "#Piechart\n",
    "labels = 'Nan', 'Values'\n",
    "sizes = [NAn, Val]\n",
    "colors = ['gold', 'lightcoral']\n",
    "explode = (0.1, 0)  # explode 1st slice\n",
    "\n",
    "# Plot\n",
    "plt.pie(sizes, explode=explode, labels=labels, colors=colors,\n",
    "autopct='%1.1f%%', shadow=True, startangle=140)\n",
    "\n",
    "plt.axis('equal')\n",
    "plt.show()\n",
    "NAn"
   ]
  },
  {
   "cell_type": "code",
   "execution_count": null,
   "metadata": {
    "colab": {
     "base_uri": "https://localhost:8080/",
     "height": 248
    },
    "id": "4h1mz9oufAlG",
    "outputId": "fcc909cc-0fec-4152-e152-db25334ef871",
    "pycharm": {
     "is_executing": true
    }
   },
   "outputs": [],
   "source": [
    "NAn= len(df_test.location[df_test[\"location\"].isnull()==True])\n",
    "Val= len(df_test.location)-NAn\n",
    "#Piechart\n",
    "labels = 'Nan', 'Values'\n",
    "sizes = [NAn, Val]\n",
    "colors = ['gold', 'lightcoral']\n",
    "explode = (0.1, 0)  # explode 1st slice\n",
    "\n",
    "# Plot\n",
    "plt.pie(sizes, explode=explode, labels=labels, colors=colors,\n",
    "autopct='%1.1f%%', shadow=True, startangle=140)\n",
    "\n",
    "plt.axis('equal')\n",
    "plt.show()\n"
   ]
  },
  {
   "cell_type": "markdown",
   "metadata": {
    "id": "CWqY1qK_hbQP"
   },
   "source": [
    "A lot of Missing values. Maybe we need to drop it."
   ]
  },
  {
   "cell_type": "markdown",
   "metadata": {
    "id": "1PaEm7w9iN7m"
   },
   "source": [
    "## Some text Distribution\n"
   ]
  },
  {
   "cell_type": "code",
   "execution_count": null,
   "metadata": {
    "id": "GSw8OBvUPe_I",
    "pycharm": {
     "is_executing": true
    }
   },
   "outputs": [],
   "source": [
    "import string\n",
    "\n",
    "# word_count\n",
    "df_train['word_count'] = df_train['text'].apply(lambda x: len(str(x).split()))\n",
    "df_test['word_count'] = df_test['text'].apply(lambda x: len(str(x).split()))\n",
    "\n",
    "# unique_word_count\n",
    "df_train['unique_word_count'] = df_train['text'].apply(lambda x: len(set(str(x).split())))\n",
    "df_test['unique_word_count'] = df_test['text'].apply(lambda x: len(set(str(x).split())))\n",
    "\n",
    "\n",
    "# url_count\n",
    "df_train['url_count'] = df_train['text'].apply(lambda x: len([w for w in str(x).lower().split() if 'http' in w or 'https' in w]))\n",
    "df_test['url_count'] = df_test['text'].apply(lambda x: len([w for w in str(x).lower().split() if 'http' in w or 'https' in w]))\n",
    "\n",
    "# mean_word_length\n",
    "df_train['mean_word_length'] = df_train['text'].apply(lambda x: np.mean([len(w) for w in str(x).split()]))\n",
    "df_test['mean_word_length'] = df_test['text'].apply(lambda x: np.mean([len(w) for w in str(x).split()]))\n",
    "\n",
    "# char_count\n",
    "df_train['char_count'] = df_train['text'].apply(lambda x: len(str(x)))\n",
    "df_test['char_count'] = df_test['text'].apply(lambda x: len(str(x)))\n",
    "\n",
    "# punctuation_count\n",
    "df_train['punctuation_count'] = df_train['text'].apply(lambda x: len([c for c in str(x) if c in string.punctuation]))\n",
    "df_test['punctuation_count'] = df_test['text'].apply(lambda x: len([c for c in str(x) if c in string.punctuation]))\n",
    "\n",
    "# hashtag_count\n",
    "df_train['hashtag_count'] = df_train['text'].apply(lambda x: len([c for c in str(x) if c == '#']))\n",
    "df_test['hashtag_count'] = df_test['text'].apply(lambda x: len([c for c in str(x) if c == '#']))\n",
    "\n",
    "# mention_count\n",
    "df_train['mention_count'] = df_train['text'].apply(lambda x: len([c for c in str(x) if c == '@']))\n",
    "df_test['mention_count'] = df_test['text'].apply(lambda x: len([c for c in str(x) if c == '@']))\n"
   ]
  },
  {
   "cell_type": "markdown",
   "metadata": {
    "id": "yNQu4itjhjz9"
   },
   "source": [
    "### Distribution Graphics"
   ]
  },
  {
   "cell_type": "code",
   "execution_count": null,
   "metadata": {
    "colab": {
     "base_uri": "https://localhost:8080/",
     "height": 576
    },
    "id": "DnV8P4ePWqij",
    "outputId": "bacbc263-179e-4828-c90a-ac7a27521ade",
    "pycharm": {
     "is_executing": true
    }
   },
   "outputs": [],
   "source": [
    "import seaborn as sns\n",
    "\n",
    "# Graphic distribution in test & train data for mention count \n",
    "sns.set_style(\"white\")\n",
    "x1 = df_train[\"mention_count\"]\n",
    "x2 = df_test[\"mention_count\"]\n",
    "\n",
    "\n",
    "# Plot\n",
    "kwargs = dict(hist_kws={'alpha':.6}, kde_kws={'linewidth':2})\n",
    "\n",
    "plt.figure(figsize=(10,7), dpi= 80)\n",
    "sns.distplot(x1, color=\"dodgerblue\", label=\"Train\", **kwargs)\n",
    "sns.distplot(x2, color=\"orange\", label=\"Test\", **kwargs)\n",
    "plt.xlim(0,5)\n",
    "plt.legend();"
   ]
  },
  {
   "cell_type": "code",
   "execution_count": null,
   "metadata": {
    "colab": {
     "base_uri": "https://localhost:8080/",
     "height": 576
    },
    "id": "GHc40zPeSndj",
    "outputId": "dc9ffdd4-562a-401d-b1bc-a96b5fe83702",
    "pycharm": {
     "is_executing": true
    }
   },
   "outputs": [],
   "source": [
    "# Graphic distribution in test & train data for hashtag count\n",
    "sns.set_style(\"white\")\n",
    "x1 = df_train[\"hashtag_count\"]\n",
    "x2 = df_test[\"hashtag_count\"]\n",
    "\n",
    "\n",
    "# Plot\n",
    "kwargs = dict(hist_kws={'alpha':.6}, kde_kws={'linewidth':2})\n",
    "\n",
    "plt.figure(figsize=(10,7), dpi= 80)\n",
    "sns.distplot(x1, color=\"dodgerblue\", label=\"Train\", **kwargs)\n",
    "sns.distplot(x2, color=\"orange\", label=\"Test\", **kwargs)\n",
    "plt.xlim(0,5)\n",
    "plt.legend();"
   ]
  },
  {
   "cell_type": "code",
   "execution_count": null,
   "metadata": {
    "colab": {
     "base_uri": "https://localhost:8080/",
     "height": 576
    },
    "id": "RQD52bKfSviI",
    "outputId": "7f4628e9-f65e-4c11-e8ea-9f8dd804776b",
    "pycharm": {
     "is_executing": true
    }
   },
   "outputs": [],
   "source": [
    "# Graphic distribution in test & train data for url count\n",
    "sns.set_style(\"white\")\n",
    "x1 = df_train[\"url_count\"]\n",
    "x2 = df_test[\"url_count\"]\n",
    "\n",
    "\n",
    "# Plot\n",
    "kwargs = dict(hist_kws={'alpha':.6}, kde_kws={'linewidth':2})\n",
    "\n",
    "plt.figure(figsize=(10,7), dpi= 80)\n",
    "sns.distplot(x1, color=\"dodgerblue\", label=\"Train\", **kwargs)\n",
    "sns.distplot(x2, color=\"orange\", label=\"Test\", **kwargs)\n",
    "plt.xlim(0,5)\n",
    "plt.legend();"
   ]
  },
  {
   "cell_type": "code",
   "execution_count": null,
   "metadata": {
    "colab": {
     "base_uri": "https://localhost:8080/",
     "height": 576
    },
    "id": "8gsuGTM9S7Aa",
    "outputId": "a1ebb0cc-a209-4d20-9f6e-fe1c80039a87",
    "pycharm": {
     "is_executing": true
    }
   },
   "outputs": [],
   "source": [
    "# Graphic distribution in test & train data for punctuation count\n",
    "\n",
    "x1 = df_train[\"punctuation_count\"]\n",
    "x2 = df_test[\"punctuation_count\"]\n",
    "\n",
    "\n",
    "# Plot\n",
    "kwargs = dict(hist_kws={'alpha':.6}, kde_kws={'linewidth':2})\n",
    "\n",
    "plt.figure(figsize=(10,7), dpi= 80)\n",
    "sns.distplot(x1, color=\"dodgerblue\", label=\"Train\", **kwargs)\n",
    "sns.distplot(x2, color=\"orange\", label=\"Test\", **kwargs)\n",
    "plt.xlim(0,30)\n",
    "plt.legend();"
   ]
  },
  {
   "cell_type": "code",
   "execution_count": null,
   "metadata": {
    "colab": {
     "base_uri": "https://localhost:8080/",
     "height": 576
    },
    "id": "nUz1OqE_Usdz",
    "outputId": "77106f4c-1585-4507-ff5f-6e86cf67b58b",
    "pycharm": {
     "is_executing": true
    }
   },
   "outputs": [],
   "source": [
    "\n",
    "x1 = df_train.loc[df_train.target==1,\"hashtag_count\"]\n",
    "x2 = df_train.loc[df_train.target==0, \"hashtag_count\"]\n",
    "\n",
    "\n",
    "# Plot\n",
    "kwargs = dict(hist_kws={'alpha':.6}, kde_kws={'linewidth':2})\n",
    "\n",
    "plt.figure(figsize=(10,7), dpi= 80)\n",
    "sns.distplot(x1, color=\"dodgerblue\", label=\"Disaster\", **kwargs)\n",
    "sns.distplot(x2, color=\"orange\", label=\"No Disaster\", **kwargs)\n",
    "plt.xlim(0,6)\n",
    "plt.legend();"
   ]
  },
  {
   "cell_type": "markdown",
   "metadata": {
    "id": "8WXGxoKIhuM3"
   },
   "source": [
    "## Ngrams"
   ]
  },
  {
   "cell_type": "markdown",
   "metadata": {},
   "source": [
    "### Unigrams\n"
   ]
  },
  {
   "cell_type": "code",
   "execution_count": null,
   "metadata": {
    "colab": {
     "base_uri": "https://localhost:8080/",
     "height": 500
    },
    "id": "AJhnCJliXrkI",
    "outputId": "1a2d14ac-6fc2-4dc8-fc55-8d5e38647070",
    "pycharm": {
     "is_executing": true
    }
   },
   "outputs": [],
   "source": [
    "# Distribution of every words in the train dataset \n",
    "\n",
    "from collections import Counter\n",
    "import nltk\n",
    "from nltk import word_tokenize\n",
    "from nltk.util import ngrams\n",
    "from collections import Counter\n",
    "import spacy \n",
    "nlp=spacy.load(\"en_core_web_sm\")\n",
    "\n",
    "words=[]\n",
    "for t in df_train.text:\n",
    "  for word in t.split():\n",
    "      words.append(word)\n",
    "x=(pd.Series(nltk.ngrams(words, 1)).value_counts())[:50]\n",
    "\n",
    "x.sort_values().plot.barh(color='blue', width=.9, figsize=(12, 8))"
   ]
  },
  {
   "cell_type": "markdown",
   "metadata": {
    "id": "hAvATXJSj59Z"
   },
   "source": [
    "The target value can affect the unigrams ?\n"
   ]
  },
  {
   "cell_type": "code",
   "execution_count": null,
   "metadata": {
    "colab": {
     "base_uri": "https://localhost:8080/",
     "height": 500
    },
    "id": "CtGDrynkky4u",
    "outputId": "7d44247f-319a-4ce3-c441-1c1baba84268",
    "pycharm": {
     "is_executing": true
    }
   },
   "outputs": [],
   "source": [
    "df_answer2=df_train[df_train[\"target\"]==0]\n",
    "words=[]\n",
    "for t in df_answer2.text:\n",
    "  for word in t.split():\n",
    "      words.append(word)\n",
    "x2=(pd.Series(nltk.ngrams(words, 1)).value_counts())[:50]\n",
    "x2.sort_values().plot.barh(color='blue', width=.9, figsize=(12, 8))"
   ]
  },
  {
   "cell_type": "code",
   "execution_count": null,
   "metadata": {
    "colab": {
     "base_uri": "https://localhost:8080/",
     "height": 500
    },
    "id": "oQA8wo36kF9U",
    "outputId": "7f8ed5d2-d237-4cab-b5e8-94e41213424b",
    "pycharm": {
     "is_executing": true
    }
   },
   "outputs": [],
   "source": [
    "#Distribution des mots: \n",
    "from collections import Counter\n",
    "import nltk\n",
    "from nltk import word_tokenize\n",
    "from nltk.util import ngrams\n",
    "from collections import Counter\n",
    "import spacy \n",
    "\n",
    "#Disaster \n",
    "nlp=spacy.load(\"en_core_web_sm\")\n",
    "df_answer=df_train[df_train[\"target\"]==1]\n",
    "words=[]\n",
    "for t in df_answer.text:\n",
    "  for word in t.split():\n",
    "      words.append(word)\n",
    "x=(pd.Series(nltk.ngrams(words, 1)).value_counts())[:50]\n",
    "x.sort_values().plot.barh(color='blue', width=.9, figsize=(12, 8))\n"
   ]
  },
  {
   "cell_type": "markdown",
   "metadata": {
    "id": "Rv7TIH7aI3XX"
   },
   "source": [
    "### Bigram"
   ]
  },
  {
   "cell_type": "code",
   "execution_count": null,
   "metadata": {
    "colab": {
     "base_uri": "https://localhost:8080/",
     "height": 500
    },
    "id": "-dpuPB63JALb",
    "outputId": "33ab3bd5-8ece-4ef0-87ca-4eaff6b1be10",
    "pycharm": {
     "is_executing": true
    }
   },
   "outputs": [],
   "source": [
    "words=[]\n",
    "for t in df_train.text:\n",
    "  for word in t.split():\n",
    "      words.append(word)\n",
    "x=(pd.Series(nltk.ngrams(words, 2)).value_counts())[:50]\n",
    "\n",
    "x.sort_values().plot.barh(color='blue', width=.9, figsize=(12, 8))"
   ]
  },
  {
   "cell_type": "markdown",
   "metadata": {
    "id": "gEfDfGR1JOab"
   },
   "source": [
    "### Trigram"
   ]
  },
  {
   "cell_type": "code",
   "execution_count": null,
   "metadata": {
    "colab": {
     "base_uri": "https://localhost:8080/",
     "height": 571
    },
    "id": "0brNvAMsJIiM",
    "outputId": "463e7331-e5c1-46d3-af4b-71379c1af5d9",
    "pycharm": {
     "is_executing": true
    }
   },
   "outputs": [],
   "source": [
    "words=[]\n",
    "for t in df_train.text:\n",
    "  for word in t.split():\n",
    "      words.append(word)\n",
    "x=(pd.Series(nltk.ngrams(words, 3)).value_counts())[:50]\n",
    "\n",
    "x.sort_values().plot.barh(color='blue', width=.9, figsize=(12, 8))"
   ]
  },
  {
   "cell_type": "markdown",
   "metadata": {
    "id": "6j-7SadfKWpQ"
   },
   "source": [
    "We need to clean some data as &amp or the MH370 case.\n",
    "Maybe say something for the distribution of words"
   ]
  },
  {
   "cell_type": "markdown",
   "metadata": {
    "id": "UYRfeFthK9F5"
   },
   "source": [
    "## Keywords"
   ]
  },
  {
   "cell_type": "code",
   "execution_count": null,
   "metadata": {
    "pycharm": {
     "is_executing": true
    }
   },
   "outputs": [],
   "source": [
    "keyw=[]\n",
    "for i in df_train.keyword:\n",
    "  keyw.append(i)\n",
    "counted=Counter(keyw)\n",
    "x=counted.most_common(150)\n",
    "#Key\n",
    "key=[]\n",
    "for i in range(len(x)):\n",
    "  key.append(x[i][0])\n",
    "\n",
    "\n",
    "key"
   ]
  },
  {
   "cell_type": "markdown",
   "metadata": {
    "id": "xGXEfC8OK_0s"
   },
   "source": [
    "There is a problem with the keywords.The space isn't decoded correctly. We can see in the text some %20"
   ]
  },
  {
   "cell_type": "code",
   "execution_count": null,
   "metadata": {
    "colab": {
     "base_uri": "https://localhost:8080/"
    },
    "id": "wrgmlFhXLNE5",
    "outputId": "a32628cf-6276-45d8-8f35-19e97cdaae6d",
    "pycharm": {
     "is_executing": true
    }
   },
   "outputs": [],
   "source": [
    "df_train[\"keyword\"]= df_train[\"keyword\"].astype(str)\n",
    "for i in range(len(df_train[\"keyword\"])):\n",
    "  df_train[\"keyword\"].iloc[i]=df_train[\"keyword\"].iloc[i].replace(\"%20\",\" \")\n",
    "\n",
    "\n",
    "df_test[\"keyword\"]= df_test[\"keyword\"].astype(str)\n",
    "for i in range(len(df_test[\"keyword\"])):\n",
    "  df_test[\"keyword\"].iloc[i]=df_test[\"keyword\"].iloc[i].replace(\"%20\",\" \")\n",
    "\n"
   ]
  },
  {
   "cell_type": "code",
   "execution_count": null,
   "metadata": {
    "colab": {
     "base_uri": "https://localhost:8080/",
     "height": 333
    },
    "id": "33RcAa7EM-Fo",
    "outputId": "32eec180-dfcd-44a0-bcf7-321ce805f246",
    "pycharm": {
     "is_executing": true
    }
   },
   "outputs": [],
   "source": [
    "#Train\n",
    "keyw=[]\n",
    "for i in df_train.keyword:\n",
    "  keyw.append(i)\n",
    "counted=Counter(keyw)\n",
    "x=counted.most_common(15)\n",
    "#Key\n",
    "key=[]\n",
    "for i in range(len(x)):\n",
    "  key.append(x[i][0])\n",
    "\n",
    "#Values:\n",
    "values=[]\n",
    "for i in range(len(x)):\n",
    "  values.append(x[i][1])\n",
    "values\n",
    "data = {'Key': key,\n",
    "        'Values': values\n",
    "       }\n",
    "df = pd.DataFrame(data,columns=['Key','Values'])\n",
    "df.plot(x ='Key', y='Values', kind = 'bar')\n",
    "plt.title(\"Keyword's Distribution\")\n",
    "plt.xticks(rotation=45)\n",
    "plt.show()"
   ]
  },
  {
   "cell_type": "code",
   "execution_count": null,
   "metadata": {
    "colab": {
     "base_uri": "https://localhost:8080/",
     "height": 387
    },
    "id": "sw4JnH71WOs5",
    "outputId": "f00aeb11-a6f9-4e07-fc5a-47c9d478b1fa",
    "pycharm": {
     "is_executing": true
    }
   },
   "outputs": [],
   "source": [
    "#Test\n",
    "keyw=[]\n",
    "for i in df_test.keyword:\n",
    "  keyw.append(i)\n",
    "counted=Counter(keyw)\n",
    "x=counted.most_common(15)\n",
    "#Key\n",
    "key=[]\n",
    "for i in range(len(x)):\n",
    "  key.append(x[i][0])\n",
    "\n",
    "#Values:\n",
    "values=[]\n",
    "for i in range(len(x)):\n",
    "  values.append(x[i][1])\n",
    "values\n",
    "data = {'Key': key,\n",
    "        'Values': values\n",
    "       }\n",
    "df = pd.DataFrame(data,columns=['Key','Values'])\n",
    "df.plot(x ='Key', y='Values', kind = 'bar')\n",
    "plt.title(\"Keyword's Distribution\")\n",
    "plt.xticks(rotation=70)\n",
    "plt.show()"
   ]
  },
  {
   "cell_type": "markdown",
   "metadata": {
    "id": "Xqi2oKw8Xcqm"
   },
   "source": [
    "We can see Nan in the train set but don't appear on the test set. We are going to check this deeper:"
   ]
  },
  {
   "cell_type": "code",
   "execution_count": null,
   "metadata": {
    "colab": {
     "base_uri": "https://localhost:8080/",
     "height": 336
    },
    "id": "WYcuvqxUXxg4",
    "outputId": "de1db0b5-16a7-4d15-ebc8-43c7a5b91339",
    "pycharm": {
     "is_executing": true
    }
   },
   "outputs": [],
   "source": [
    "# Check different distribution of Nan keywords in the different datasets (Test and Train)\n",
    "\n",
    "Missing_test= df_test.keyword[df_test[\"keyword\"]==\"nan\"].count()\n",
    "Missing_train=df_train.keyword[df_train[\"keyword\"]==\"nan\"].count()\n",
    "fig = plt.figure()\n",
    "ax = fig.add_axes([0,0,1,1])\n",
    "langs = [\"Test\", \"Train\"]\n",
    "students = [Missing_train,Missing_test]\n",
    "ax.bar(langs,students)\n",
    "plt.show()"
   ]
  },
  {
   "cell_type": "markdown",
   "metadata": {
    "id": "HIeG_YLITiif"
   },
   "source": [
    "# Base rate"
   ]
  },
  {
   "cell_type": "code",
   "execution_count": null,
   "metadata": {
    "colab": {
     "base_uri": "https://localhost:8080/",
     "height": 248
    },
    "id": "E96vqRlTTdiR",
    "outputId": "b2f359d0-2286-4d1d-bd62-5934a13a3c36",
    "pycharm": {
     "is_executing": true
    }
   },
   "outputs": [],
   "source": [
    "# Plot the distribution of Disaster / Not disaster in the training set \n",
    "Disaster= df_train.target[df_train[\"target\"]==1].count()\n",
    "NoDisaster= df_train.target[df_train[\"target\"]==0].count()\n",
    "#Piechart\n",
    "labels = 'Disaster', 'Not Disaster'\n",
    "sizes = [Disaster, NoDisaster]\n",
    "colors = ['gold', 'lightcoral']\n",
    "explode = (0.1, 0)  # explode 1st slice\n",
    "\n",
    "# Plot\n",
    "plt.pie(sizes, explode=explode, labels=labels, colors=colors,\n",
    "autopct='%1.1f%%', shadow=True, startangle=140)\n",
    "\n",
    "plt.axis('equal')\n",
    "plt.show()"
   ]
  },
  {
   "cell_type": "markdown",
   "metadata": {
    "id": "Se2i91qwoOgy"
   },
   "source": [
    "## Bonus WordCloud"
   ]
  },
  {
   "cell_type": "code",
   "execution_count": null,
   "metadata": {
    "colab": {
     "base_uri": "https://localhost:8080/",
     "height": 366
    },
    "id": "4nAHQzTxn-ew",
    "outputId": "2c8eb7ac-aaf8-49ec-beee-d3a8107bacd6",
    "pycharm": {
     "is_executing": true
    }
   },
   "outputs": [],
   "source": [
    "# WordCloud to visualise occurence of words in the training set where target = 0\n",
    "\n",
    "no_dis_tweets = df_train[df_train.target == 0]\n",
    "word = []\n",
    "for t in no_dis_tweets.text:\n",
    "    word.append(t)\n",
    "word = pd.Series(word).str.cat(sep=' ')\n",
    "from wordcloud import WordCloud\n",
    "\n",
    "wordcloud = WordCloud(width=1600, height=800,max_font_size=200).generate(word)\n",
    "plt.figure(figsize=(12,10))\n",
    "plt.imshow(wordcloud, interpolation=\"bilinear\")\n",
    "plt.axis(\"off\")\n",
    "plt.show()"
   ]
  },
  {
   "cell_type": "code",
   "execution_count": null,
   "metadata": {
    "colab": {
     "base_uri": "https://localhost:8080/",
     "height": 366
    },
    "id": "D9q8JD7MnlGl",
    "outputId": "ebdb9bea-781f-4b64-d3d1-f00bbe11d05f",
    "pycharm": {
     "is_executing": true
    }
   },
   "outputs": [],
   "source": [
    "# WordCloud to visualise occurence of words in the training set where target = 1\n",
    "\n",
    "no_dis_tweets = df_train[df_train.target == 1]\n",
    "word = []\n",
    "for t in no_dis_tweets.text:\n",
    "    word.append(t)\n",
    "word = pd.Series(word).str.cat(sep=' ')\n",
    "from wordcloud import WordCloud\n",
    "\n",
    "wordcloud = WordCloud(width=1600, height=800,max_font_size=200).generate(word)\n",
    "plt.figure(figsize=(12,10))\n",
    "plt.imshow(wordcloud, interpolation=\"bilinear\")\n",
    "plt.axis(\"off\")\n",
    "plt.show()"
   ]
  },
  {
   "cell_type": "markdown",
   "metadata": {
    "id": "DAP51iDWiejN"
   },
   "source": [
    "# Model and improvement of the Model"
   ]
  },
  {
   "cell_type": "markdown",
   "metadata": {
    "id": "n9bka04tXM4p"
   },
   "source": [
    "In this part, we want to beat our base rate accuracy. For achieving it, we gonna test/do :\n",
    "- Different models \n",
    "- Pre-Processing \n",
    "- Differents variable\n",
    "\n",
    "For the part 1, we gonna try some supervised Model like Logistic, LogisticCV, Random and etc. Our refercial accurace score is our base rate (57%). \n",
    "\n"
   ]
  },
  {
   "cell_type": "markdown",
   "metadata": {
    "id": "oV5eNjhQuAfP"
   },
   "source": [
    "### Choose a model "
   ]
  },
  {
   "cell_type": "code",
   "execution_count": null,
   "metadata": {
    "colab": {
     "base_uri": "https://localhost:8080/"
    },
    "id": "NcMggvUFjXLs",
    "outputId": "65c79d53-8251-4411-c6d1-a95c6cb3a530",
    "pycharm": {
     "is_executing": true
    }
   },
   "outputs": [],
   "source": [
    "from sklearn.feature_extraction.text import CountVectorizer\n",
    "from sklearn.pipeline import Pipeline\n",
    "from sklearn.base import TransformerMixin\n",
    "from sklearn.pipeline import Pipeline\n",
    "import string\n",
    "from spacy.lang.en.stop_words import STOP_WORDS\n",
    "from spacy.lang.en import English\n",
    "from sklearn.model_selection import train_test_split\n",
    "from sklearn.linear_model import LogisticRegression, LogisticRegressionCV\n",
    "from sklearn.metrics import confusion_matrix, accuracy_score, precision_score, recall_score, f1_score\n",
    "from sklearn.feature_extraction.text import CountVectorizer,TfidfVectorizer\n",
    "import spacy\n",
    "from nltk.stem import PorterStemmer \n",
    "from nltk.tokenize import word_tokenize \n",
    "\n",
    "Model_base_rate=0.57\n",
    "\n",
    "sp = spacy.load('en_core_web_sm')\n",
    "message= str(df_train[\"text\"])\n",
    "my_word= sp(message)\n",
    "stop_words = spacy.lang.en.stop_words.STOP_WORDS\n",
    "punctuations = string.punctuation\n",
    "\n",
    "def spacy_tokenizer(sentence):\n",
    "    # Create token object, which is used to create documents with linguistic annotations.\n",
    "    mytokens = sp(sentence)\n",
    "\n",
    "    # Lemmatize each token and convert each token into lowercase\n",
    "    mytokens = [ word.lemma_.lower().strip() and word.lower_ for word in mytokens ]\n",
    "\n",
    "    # Remove stop words and punctuation\n",
    "    mytokens = [ word for word in mytokens if word not in stop_words and word not in punctuations ]\n",
    "    \n",
    "    # Return preprocessed list of tokens\n",
    "    return mytokens\n",
    "\n",
    "\n",
    "\n",
    "def New_model(x):\n",
    "  if x>Model_base_rate:\n",
    "    print(\"There is a improvement of \"+str(accuracy_score(y_test,y_pred)-Model_base_rate))\n",
    "  else: \n",
    "    print(\"There's no improvement \")\n",
    "    \n",
    "    \n",
    "\n",
    "#Model: \n",
    "\n",
    "X = df_train[\"text\"] # the features we want to analyze\n",
    "ylabels = df_train['target'] # the labels, or answers, we want to test against\n",
    "\n",
    "# Train test split\n",
    "X_train, X_test, y_train, y_test = train_test_split(X, ylabels, test_size=0.2, random_state=72)\n",
    "\n",
    "\n",
    "tfidf = TfidfVectorizer(tokenizer=spacy_tokenizer, min_df=1, max_df=1.0, analyzer=\"word\")\n",
    "\n",
    "# Define classifier\n",
    "classifier = LogisticRegression(solver=\"lbfgs\", max_iter=5000, random_state=72)\n",
    "\n",
    "# Create pipeline\n",
    "pipe = Pipeline([('vectorizer', tfidf),\n",
    "                 ('classifier', classifier)])\n",
    "\n",
    "# Fit model on training set\n",
    "pipe.fit(X_train, y_train)\n",
    "\n",
    "#Essai 1:\n",
    "\n",
    "# Evaluate the model\n",
    "def evaluate(true, pred):\n",
    "    precision = precision_score(true, pred)\n",
    "    recall = recall_score(true, pred)\n",
    "    f1 = f1_score(true, pred)\n",
    "    print(f\"CONFUSION MATRIX:\\n{confusion_matrix(true, pred)}\")\n",
    "    print(f\"ACCURACY SCORE:\\n{accuracy_score(true, pred):.4f}\")\n",
    "    print(f\"CLASSIFICATION REPORT:\\n\\tPrecision: {precision:.4f}\\n\\tRecall: {recall:.4f}\\n\\tF1_Score: {f1:.4f}\")\n",
    "#Essai 1:\n",
    "\n",
    "train_accuracy_score = accuracy_score(y_train, pipe.predict(X_train))\n",
    "print(train_accuracy_score)\n",
    "\n",
    "\n",
    "# Predictions\n",
    "y_pred = pipe.predict(X_test)\n",
    "print(\"The accurancy is\" + \" \" +str(accuracy_score(y_test,y_pred)))\n",
    "\n",
    "\n",
    "New_model(accuracy_score(y_test,y_pred))"
   ]
  },
  {
   "cell_type": "markdown",
   "metadata": {
    "id": "hbKb7QSyxdA6"
   },
   "source": [
    "Ok nice with a simple Logitic Regression we reach a better accuracy.\n",
    "\n",
    "Maybe we are lucky with the model. We want to test more model before going deeper in one. "
   ]
  },
  {
   "cell_type": "code",
   "execution_count": null,
   "metadata": {
    "colab": {
     "base_uri": "https://localhost:8080/"
    },
    "id": "NQYTZA6Zwy_N",
    "outputId": "c38fb3f6-1723-4071-c57c-c605d0ff1c6a",
    "pycharm": {
     "is_executing": true
    }
   },
   "outputs": [],
   "source": [
    "from sklearn.ensemble import RandomForestClassifier\n",
    "from sklearn import svm\n",
    "from sklearn.naive_bayes import MultinomialNB\n",
    "from sklearn.naive_bayes import BernoulliNB\n",
    "model_accuracy=[]\n",
    "\n",
    "X = df_train[\"text\"] # the features we want to analyze\n",
    "ylabels = df_train['target'] # the labels, or answers, we want to test against\n",
    "\n",
    "# Train test split\n",
    "X_train, X_test, y_train, y_test = train_test_split(X, ylabels, test_size=0.2, random_state=72)\n",
    "\n",
    "\n",
    "tfidf = TfidfVectorizer(tokenizer=spacy_tokenizer, \n",
    "                                   ngram_range=(1,3),\n",
    "                                   min_df=1, max_df=1.0, analyzer=\"word\")\n",
    "\n",
    "\n",
    "classifier = [LogisticRegression(), LogisticRegressionCV(),RandomForestClassifier(), svm.SVC(),MultinomialNB(),BernoulliNB()]\n",
    "Model_comparaison = 0\n",
    "Model_train=[]\n",
    "\n",
    "\n",
    "\n",
    "\n",
    "for i in classifier:\n",
    "    # pipeline\n",
    "    pipe = Pipeline([('vectorizer', tfidf),\n",
    "                     ('classifier', i)])\n",
    "\n",
    "    # Fit model on training set\n",
    "    pipe.fit(X_train, y_train)\n",
    "    train_accuracy_score = accuracy_score(y_train, pipe.predict(X_train))\n",
    "\n",
    "    # Predictions\n",
    "    y_pred = pipe.predict(X_test)\n",
    "    \n",
    "    print(\"-----------------------------------------------\")\n",
    "    print(\" \")\n",
    "    print(\"With the Model: \" + str(i))\n",
    "    print(\"Test Accuracy of \" + str(accuracy_score(y_test,y_pred)))\n",
    "    print(\"Train Accuracy of \" +str(train_accuracy_score))\n",
    "    model_accuracy.append(accuracy_score(y_test,y_pred))\n",
    "    Model_train.append(train_accuracy_score)\n",
    "    \n",
    "    #Comparaison \n",
    "    if accuracy_score(y_test,y_pred)>Model_comparaison:\n",
    "        \n",
    "        \n",
    "        if Model_comparaison == 0:\n",
    "            print(\"First Test the accuracy is \" + str(accuracy_score(y_test, y_pred)))\n",
    "            print(\" \")\n",
    "            Model_comparaison= accuracy_score(y_test, y_pred)\n",
    "                  \n",
    "        else:\n",
    "            Model_comparaison = accuracy_score(y_test, y_pred)\n",
    "            print(\"There is a improvement of \" + str(accuracy_score(y_test, y_pred)- Model_comparaison))\n",
    "            print(\" \")\n",
    "    else :\n",
    "        print(\"Not the best model tested 'Based on Test accuracy'\")\n",
    "        print(\" \")\n",
    "    \n"
   ]
  },
  {
   "cell_type": "code",
   "execution_count": null,
   "metadata": {
    "pycharm": {
     "is_executing": true
    }
   },
   "outputs": [],
   "source": [
    "#Graph for the different model based on their performance: \n",
    "Classifier=[\"Logistic\",\"LogisticCV\",\"Forest\",\"SVC\",\"Multinomia\", \"Bernoulli\"]\n",
    "plt.figure(figsize=(9, 3))\n",
    "plt.scatter(Classifier, model_accuracy)\n",
    "plt.show()"
   ]
  },
  {
   "cell_type": "code",
   "execution_count": null,
   "metadata": {
    "pycharm": {
     "is_executing": true
    }
   },
   "outputs": [],
   "source": [
    "for i in Model_train:\n",
    "    print(i)"
   ]
  },
  {
   "cell_type": "markdown",
   "metadata": {},
   "source": [
    "Our best model is the LogisticRegression. "
   ]
  },
  {
   "cell_type": "markdown",
   "metadata": {},
   "source": [
    "### Pre-Processing "
   ]
  },
  {
   "cell_type": "markdown",
   "metadata": {
    "id": "DSNszwRLypkL"
   },
   "source": [
    "![clean-all-the-data.jpeg](data:image/jpeg;base64,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)"
   ]
  },
  {
   "cell_type": "markdown",
   "metadata": {
    "id": "ic1xyK_jypGL"
   },
   "source": [
    "We try to clean our model. We want to standardize the texte. We are going to remove : \n",
    "- Http \n",
    "- Unicode \n",
    "- Expression \n",
    "- Abrevation and some hashtags \n",
    "\n",
    "\n"
   ]
  },
  {
   "cell_type": "markdown",
   "metadata": {},
   "source": [
    "#### Unicode removed"
   ]
  },
  {
   "cell_type": "code",
   "execution_count": null,
   "metadata": {
    "pycharm": {
     "is_executing": true
    }
   },
   "outputs": [],
   "source": [
    "import re \n",
    "\n",
    "def clean_text(x):\n",
    "  x = x.encode('ascii', 'ignore').decode()\n",
    "  return x\n",
    "\n",
    "df_train[\"clean_text\"]=df_train[\"text\"].apply(lambda x : clean_text(x))"
   ]
  },
  {
   "cell_type": "markdown",
   "metadata": {},
   "source": [
    "#### HTTP removed"
   ]
  },
  {
   "cell_type": "code",
   "execution_count": null,
   "metadata": {
    "pycharm": {
     "is_executing": true
    }
   },
   "outputs": [],
   "source": [
    "def clean_text(x):\n",
    "  x = re.sub(\"https*\\S+\", \"\", x)\n",
    "  return x\n",
    "\n",
    "df_train[\"clean_text\"]=df_train[\"text\"].apply(lambda x : clean_text(x))"
   ]
  },
  {
   "cell_type": "markdown",
   "metadata": {},
   "source": [
    "#### Final Clean function for the text"
   ]
  },
  {
   "cell_type": "code",
   "execution_count": null,
   "metadata": {
    "colab": {
     "base_uri": "https://localhost:8080/"
    },
    "id": "qnhmP_qdR3-D",
    "outputId": "0d9ae0c6-2f22-46bb-d0d3-554cc0a7d503",
    "pycharm": {
     "is_executing": true
    }
   },
   "outputs": [],
   "source": [
    "\n",
    "def clean_text(x):\n",
    "\n",
    "\n",
    "  #Site and decode problem:\n",
    "  x = re.sub(\"https*\\S+\", \" \", x)\n",
    "  x = re.sub(r\"amp\", \"and\", x)\n",
    "  x = re.sub(r\"Ûª\", \"'\", x)\n",
    "  x = re.sub(r\"Û_\", \"'\", x)\n",
    "  x = re.sub(r\"Û\", \"'\", x)\n",
    "  x = re.sub(r\"&lt\", \"\", x)\n",
    "  x = re.sub(r\"&gt; \", \"\", x)\n",
    "\n",
    "  x= re.sub(r\"aaaaaaallll\", \"all\", x)\n",
    "  x= re.sub(r\"looooooooooool\",\"lol\",x)\n",
    "  x= re.sub(r\"womengirls \",\"womengirls \",x)\n",
    "  x = re.sub(r\"2p,\", \"02:00 pm\", x)\n",
    "\n",
    "\n",
    "  x = re.sub(r\"frat's\", \"fraternity of\", x)\n",
    "  x = re.sub(r\"who's\", \"who is\", x)\n",
    "  x = re.sub(r\"awwww\", \"\", x)\n",
    "  x = re.sub(r\"2-1-21\", \"02-01-2021\", x)\n",
    "  x = re.sub(r\"4:30 P.M. \", \"4:30 pm \", x)\n",
    "  x = re.sub(r\"11-Year-Old\", \"11 year old\", x)\n",
    "  x = re.sub(r\"country's \", \"country of\", x)\n",
    "  x = re.sub(r\"pls\", \"please\", x)\n",
    "  x = re.sub(r\"wrapup \", \"wrap up\", x)\n",
    "  x = re.sub(r\"9:31PM\", \"9:31 PM \", x)\n",
    "  x = re.sub(r\"10:15PM  \", \"10:15\", x)\n",
    "  x = re.sub(r\" 16yr\", \" 16 year \", x)\n",
    "  x = re.sub(r\" individl\", \" individual\", x)\n",
    "  x = re.sub(r\" 14-year-old\", \"14 year old\", x)\n",
    "  x = re.sub(r\"ii\", \"2\", x)\n",
    "  x = re.sub(r\" no.\", \" number\", x)\n",
    "  x = re.sub(r\" mr.obama\", \" mister obama\", x)\n",
    "  x= re.sub(r\" u \", \" you \", x)\n",
    "  x= re.sub(r\" fundwhen\", \" fund when \" , x)\n",
    "  x= re.sub(r\" 2slow2report\", \" too slow to report \" , x)\n",
    "  x= re.sub(r\" ÛÏNewsÛ \", \" news \" , x)\n",
    " \n",
    "\n",
    "  #Expression:\n",
    "  x = re.sub(r\" lmao\", \" laughing my ass off\", x)\n",
    "  x = re.sub(r\" lmfaoooo\", \" laughing my ass off\", x)\n",
    "  x = re.sub(r\" wth \", \" what the hell \", x)\n",
    "  x = re.sub(r\" 4sake \", \" forsake \", x)\n",
    "  x = re.sub(r\"omg \", \" oh my god \", x)\n",
    "  x = re.sub(r\" smh\", \" so much hate\", x)\n",
    "  x = re.sub(r\" RT\", \"\", x)\n",
    "\n",
    "\n",
    "  # Hashtags and usernames \n",
    "  x= re.sub(r\" foxnews\", \" fox news\" , x)\n",
    "\n",
    "  #verbs\n",
    "  \n",
    "  # specific\n",
    "  x = re.sub(r\"won't\", \"will not\", x)\n",
    "  x = re.sub(r\"can\\'t\", \"can not\", x)\n",
    "\n",
    "    # general\n",
    "  x = re.sub(r\"n\\'t\", \" not\", x)\n",
    "  x = re.sub(r\"\\'re\", \" are\", x)\n",
    "  x = re.sub(r\"\\'s\", \" is\", x)\n",
    "  x = re.sub(r\"\\'d\", \" would\", x)\n",
    "  x = re.sub(r\"\\'ll\", \" will\", x)\n",
    "  x = re.sub(r\"\\'t\", \" not\", x)\n",
    "  x = re.sub(r\"\\'ve\", \" have\", x)\n",
    "  x = re.sub(r\"\\'m\", \" am\", x)\n",
    "    \n",
    "  \n",
    "  \n",
    "  x = re.sub(r\"semasirtalks\",\"semasir talks\",x)\n",
    "  x = re.sub(r\" st \",\" street\",x)\n",
    "  x = re.sub(r\"wo nt\",\"will not\",x)\n",
    "  x = re.sub(r\"2 pm\",\"2:00 pm\",x)\n",
    "  x = re.sub(r\"westerncanadadrought\",\"western canada drought\",x)\n",
    "  x = re.sub(r\" dr \",\"doctor\",x)\n",
    "  x = re.sub(r\"wtf\",\"what the fuck\",x)\n",
    "  x = re.sub(r\"lil\",\"little\",x)\n",
    "  x = re.sub(r\"ww3\",\"world war three\",x)\n",
    "  x = re.sub(r\"nc senate\",\"north carolina senate\",x)\n",
    "  x = re.sub(r\"8/19\",\"08-2019\",x)\n",
    "  x = re.sub(r\"lol\",\"lot of laugh\",x)\n",
    "  x = re.sub(r\"govt\",\"government\",x)\n",
    "  x = re.sub(r\"gop\",\"grand old party\",x)\n",
    "  x = re.sub(r\"didnt\",\"did not\",x)\n",
    "  x = re.sub(r\"rio2016\",\"rio 2016\",x)\n",
    "  x = re.sub(r\"icymi\",\"in case you missed it\",x)\n",
    "  x = re.sub(r\"jsdf\",\"japan self defense forces\",x)\n",
    "  x = re.sub(r\"3-inspired\",\"3 inspired\",x)\n",
    "\n",
    "  x = re.sub(r\"goooooooaaaaaal\",\"goal\",x)\n",
    "  x = re.sub(r\"numberplaying\",\"number playing\",x)\n",
    "  x = re.sub(r\" ve \",\"have\",x)\n",
    "  x = re.sub(r\"wanna \",\"want to\",x)\n",
    "  x = re.sub(r\"uswarcrimes\",\"united state war crimes\",x)\n",
    "  x = re.sub(r\"@breachgamingorg\",\"breach gaming organization\",x)\n",
    "  x = re.sub(r\".@david_cameron\",\"david cameron\",x)\n",
    "  x = re.sub(r\"mi-17\",\"helicopter mi-17\",x)\n",
    "  x = re.sub(r\"scwx\", \"south carolina weather\",x)\n",
    "  x = re.sub(r\"twcnews\",\"twc news\",x)\n",
    "  x = re.sub(r\"@officialmqm\",\" official muttahida quami movement\",x)\n",
    "  x = re.sub(r\"@itsjustinstuart\",\"it is justin stuart\",x)\n",
    "  x = re.sub(r\"twcnews\",\"twc news\",x)\n",
    "\n",
    "  #acronyms/abreviation:\n",
    "  x = re.sub(r\" offr \",\" officier \",x)\n",
    "  x = re.sub(r\" tlvfaces\", \" israel diaspora coalition\", x)\n",
    "  x = re.sub(\" n.h.\",\" new hampshire\",x)\n",
    "  x = re.sub(r\" mh \", \" mental health\", x)\n",
    "  x = re.sub(r\"nws \", \"national weather service\", x)\n",
    "  x = re.sub(r\"#lgbt \", \"lesbian gay bisexual and transgender\", x)\n",
    "  x = re.sub(r\"cdt \", \"central daylight time\", x)\n",
    "  x = re.sub(r\"2-u.s.\", \"to united states\", x)\n",
    "  x = re.sub(r\" usfs \", \" united states fire service \", x)\n",
    "  x = re.sub(r\"mh370\", \"malaysia airlines 370\", x)\n",
    "  x = re.sub(r\"mh17\", \"malaysia airlines 17\", x)\n",
    "  x = re.sub(r\" lrt\", \" light rail transit\", x)\n",
    "  x = re.sub(r\" its\", \" it is\", x)\n",
    "  x = re.sub(r\" wsls\", \" wsls television news\", x)\n",
    "  x = re.sub(r\" fgcu\", \" florida gulf coast university\", x)\n",
    "  x = re.sub(r\" i.s.i.s.\", \" isis\", x)\n",
    "  x = re.sub(r\" tv\", \" television\", x)\n",
    "  x = re.sub(r\" jr.\", \" junior\", x)\n",
    "  x = re.sub(r\" u.s.\", \" united state\", x)\n",
    "  x = re.sub(r\" usa\", \" united state\", x)\n",
    "  x = re.sub(r\" @\", \"\", x)\n",
    "\n",
    "  return x\n",
    "\n",
    "df_train[\"clean_text\"]=df_train[\"text\"].apply(lambda x : clean_text(x))\n",
    "\n"
   ]
  },
  {
   "cell_type": "code",
   "execution_count": null,
   "metadata": {
    "pycharm": {
     "is_executing": true
    }
   },
   "outputs": [],
   "source": [
    "# WordCloud to visualise occurence of words in the training set where target = 0\n",
    "\n",
    "no_dis_tweets = df_train[df_train.target == 0]\n",
    "word = []\n",
    "for t in no_dis_tweets.clean_text:\n",
    "    word.append(t)\n",
    "word = pd.Series(word).str.cat(sep=' ')\n",
    "from wordcloud import WordCloud\n",
    "\n",
    "wordcloud = WordCloud(width=1600, height=800,max_font_size=200).generate(word)\n",
    "plt.figure(figsize=(12,10))\n",
    "plt.imshow(wordcloud, interpolation=\"bilinear\")\n",
    "plt.axis(\"off\")\n",
    "plt.show()"
   ]
  },
  {
   "cell_type": "markdown",
   "metadata": {},
   "source": [
    "Try to see if there is any impovement."
   ]
  },
  {
   "cell_type": "code",
   "execution_count": null,
   "metadata": {
    "pycharm": {
     "is_executing": true
    }
   },
   "outputs": [],
   "source": [
    "Model_base_rate=0.8115830115830116\n",
    "\n",
    "X = df_train[\"clean_text\"] # the features we want to analyze\n",
    "ylabels = df_train['target'] # the labels, or answers, we want to test against\n",
    "\n",
    "# Train test split\n",
    "X_train, X_test, y_train, y_test = train_test_split(X, ylabels, test_size=0.2, random_state=72)\n",
    "\n",
    "\n",
    "tfidf = TfidfVectorizer(tokenizer=spacy_tokenizer, \n",
    "                                   ngram_range=(1,2),\n",
    "                                   min_df=1, max_df=1.0, analyzer=\"word\")\n",
    "\n",
    "# Define classifier\n",
    "classifier = LogisticRegression(solver=\"lbfgs\", max_iter=5000, random_state=72)\n",
    "\n",
    "# Create pipeline\n",
    "pipe = Pipeline([('vectorizer', tfidf),\n",
    "                 ('classifier', classifier)])\n",
    "\n",
    "# Fit model on training set\n",
    "pipe.fit(X_train, y_train)\n",
    "\n",
    "train_accuracy_score = accuracy_score(y_train, pipe.predict(X_train))\n",
    "print(train_accuracy_score)\n",
    "\n",
    "# Predictions\n",
    "y_pred = pipe.predict(X_test)\n",
    "print(\"The accurancy is\" + \" \" +str(accuracy_score(y_test,y_pred)))\n",
    "\n",
    "\n",
    "\n",
    "New_model(accuracy_score(y_test,y_pred))"
   ]
  },
  {
   "cell_type": "markdown",
   "metadata": {},
   "source": [
    "### Other pre-processing things: "
   ]
  },
  {
   "cell_type": "markdown",
   "metadata": {},
   "source": [
    "We saw on the internet a retarget technique. We are going to try on our notebook and see What happen"
   ]
  },
  {
   "cell_type": "code",
   "execution_count": null,
   "metadata": {
    "colab": {
     "base_uri": "https://localhost:8080/"
    },
    "id": "5rMMb6a_3ThL",
    "outputId": "07716a58-15f9-4265-f440-3dbf072c7c59",
    "pycharm": {
     "is_executing": true
    }
   },
   "outputs": [],
   "source": [
    "prob = df_train.groupby(['text']).nunique().sort_values(by='target', ascending=False)\n",
    "prob = prob[prob['target'] > 1]['target']\n",
    "prob.index.tolist()"
   ]
  },
  {
   "cell_type": "code",
   "execution_count": null,
   "metadata": {
    "id": "2kzV1pRe3f9v",
    "pycharm": {
     "is_executing": true
    }
   },
   "outputs": [],
   "source": [
    "df_train['target_relabeled'] = df_train['target']\n",
    "\n",
    "df_train.loc[df_train['text'] == 'like for the music video I want some real action shit like burning buildings and police chases not some weak ben winston shit', 'target_relabeled'] = 0\n",
    "df_train.loc[df_train['text'] == 'Hellfire is surrounded by desires so be careful and donÛªt let your desires control you! #Afterlife', 'target_relabeled'] = 0\n",
    "df_train.loc[df_train['text'] == 'To fight bioterrorism sir.', 'target_relabeled'] = 0\n",
    "df_train.loc[df_train['text'] == '.POTUS #StrategicPatience is a strategy for #Genocide; refugees; IDP Internally displaced people; horror; etc. https://t.co/rqWuoy1fm4', 'target_relabeled'] = 1\n",
    "df_train.loc[df_train['text'] == 'In #islam saving a person is equal in reward to saving all humans! Islam is the opposite of terrorism!', 'target_relabeled'] = 0\n",
    "df_train.loc[df_train['text'] == 'RT NotExplained: The only known image of infamous hijacker D.B. Cooper. http://t.co/JlzK2HdeTG', 'target_relabeled'] = 1\n",
    "df_train.loc[df_train['text'] == \"Mmmmmm I'm burning.... I'm burning buildings I'm building.... Oooooohhhh oooh ooh...\", 'target_relabeled'] = 0\n",
    "df_train.loc[df_train['text'] == \"He came to a land which was engulfed in tribal war and turned it into a land of peace i.e. Madinah. #ProphetMuhammad #islam\", 'target_relabeled'] = 0\n",
    "df_train.loc[df_train['text'] == \"Hellfire! We don\\x89Ûªt even want to think about it or mention it so let\\x89Ûªs not do anything that leads to it #islam!\", 'target_relabeled'] = 0\n",
    "df_train.loc[df_train['text'] == \"The Prophet (peace be upon him) said 'Save yourself from Hellfire even if it is by giving half a date in charity.'\", 'target_relabeled'] = 0\n",
    "df_train.loc[df_train['text'] == \"Caution: breathing may be hazardous to your health.\", 'target_relabeled'] = 1\n",
    "df_train.loc[df_train['text'] == \"I Pledge Allegiance To The P.O.P.E. And The Burning Buildings of Epic City. ??????\", 'target_relabeled'] = 0\n",
    "df_train.loc[df_train['text'] == \"#Allah describes piling up #wealth thinking it would last #forever as the description of the people of #Hellfire in Surah Humaza. #Reflect\", 'target_relabeled'] = 0\n",
    "df_train.loc[df_train['text'] == \"that horrible sinking feeling when youÛªve been at home on your phone for a while and you realise its been on 3G this whole time\", 'target_relabeled'] = 0\n"
   ]
  },
  {
   "cell_type": "markdown",
   "metadata": {
    "pycharm": {
     "is_executing": true
    }
   },
   "source": [
    "#### Retry of our models "
   ]
  },
  {
   "cell_type": "markdown",
   "metadata": {},
   "source": [
    "Do we have some labels problem ? Yes\n",
    "-> improvement !!! Oh yeah "
   ]
  },
  {
   "cell_type": "markdown",
   "metadata": {
    "id": "zVM8oryP-SuL"
   },
   "source": [
    "What happened with this modification ? \n",
    "With the target relabeled we improve our models of : "
   ]
  },
  {
   "cell_type": "code",
   "execution_count": null,
   "metadata": {
    "pycharm": {
     "is_executing": true
    }
   },
   "outputs": [],
   "source": [
    "Variable_comparaison=[]\n",
    "X = df_train[\"text\"] # the features we want to analyze\n",
    "ylabels = df_train['target_relabeled'] # the labels, or answers, we want to test against\n",
    "\n",
    "# Train test split\n",
    "X_train, X_test, y_train, y_test = train_test_split(X, ylabels, test_size=0.2, random_state=72)\n",
    "\n",
    "\n",
    "tfidf = TfidfVectorizer(tokenizer=spacy_tokenizer, \n",
    "                                   ngram_range=(1,3),\n",
    "                                   min_df=1, max_df=1.0, analyzer=\"word\")\n",
    "\n",
    "# Define classifier\n",
    "classifier = LogisticRegression(C=1.623776739188721, solver=\"lbfgs\", max_iter=5000, random_state=72)\n",
    "\n",
    "# Create pipeline\n",
    "pipe = Pipeline([('vectorizer', tfidf),\n",
    "                 ('classifier', classifier)])\n",
    "\n",
    "# Fit model on training set\n",
    "pipe.fit(X_train, y_train)\n",
    "\n",
    "\n",
    "\n",
    "train_accuracy_score = round(accuracy_score(y_train, pipe.predict(X_train)),3)\n",
    "print(train_accuracy_score)\n",
    "# Predictions\n",
    "y_pred = pipe.predict(X_test)\n",
    "print(\"The accuracy score is :\" + \" \" +str(round(accuracy_score(y_test,y_pred),3)))\n",
    "Variable_comparaison.append(accuracy_score(y_test,y_pred))\n",
    "\n",
    "\n"
   ]
  },
  {
   "cell_type": "code",
   "execution_count": null,
   "metadata": {
    "pycharm": {
     "is_executing": true
    }
   },
   "outputs": [],
   "source": [
    "df_train[\"location\"]=df_train[\"location\"].apply(str)\n",
    "\n",
    "\n",
    "X = df_train[\"location\"] # the features we want to analyze\n",
    "ylabels = df_train['target_relabeled'] # the labels, or answers, we want to test against\n",
    "\n",
    "# Train test split\n",
    "X_train, X_test, y_train, y_test = train_test_split(X, ylabels, test_size=0.2, random_state=72)\n",
    "\n",
    "\n",
    "tfidf = TfidfVectorizer(tokenizer=spacy_tokenizer, \n",
    "                                   ngram_range=(1,3),\n",
    "                                   min_df=1, max_df=1.0, analyzer=\"word\")\n",
    "\n",
    "# Define classifier\n",
    "classifier = LogisticRegression(solver=\"lbfgs\", max_iter=5000, random_state=72)\n",
    "\n",
    "# Create pipeline\n",
    "pipe = Pipeline([('vectorizer', tfidf),\n",
    "                 ('classifier', classifier)])\n",
    "\n",
    "# Fit model on training set\n",
    "pipe.fit(X_train, y_train)\n",
    "\n",
    "\n",
    "\n",
    "train_accuracy_score = accuracy_score(y_train, pipe.predict(X_train))\n",
    "print(train_accuracy_score)\n",
    "# Predictions\n",
    "y_pred = pipe.predict(X_test)\n",
    "print(\"Pour l'essaie un l'accuracy est de\" + \" \" +str(accuracy_score(y_test,y_pred)))\n",
    "Variable_comparaison.append(accuracy_score(y_test,y_pred))"
   ]
  },
  {
   "cell_type": "code",
   "execution_count": null,
   "metadata": {
    "pycharm": {
     "is_executing": true
    }
   },
   "outputs": [],
   "source": [
    "df_train[\"keyword\"]=df_train[\"keyword\"].apply(str)\n",
    "\n",
    "X = df_train[\"keyword\"] # the features we want to analyze\n",
    "ylabels = df_train['target_relabeled'] # the labels, or answers, we want to test against\n",
    "\n",
    "# Train test split\n",
    "X_train, X_test, y_train, y_test = train_test_split(X, ylabels, test_size=0.2, random_state=72)\n",
    "\n",
    "\n",
    "tfidf = TfidfVectorizer(tokenizer=spacy_tokenizer, \n",
    "                                   ngram_range=(1,3),\n",
    "                                   min_df=1, max_df=1.0, analyzer=\"word\")\n",
    "\n",
    "# Define classifier\n",
    "classifier = LogisticRegression(solver=\"lbfgs\", max_iter=5000, random_state=72)\n",
    "\n",
    "# Create pipeline\n",
    "pipe = Pipeline([('vectorizer', tfidf),\n",
    "                 ('classifier', classifier)])\n",
    "\n",
    "# Fit model on training set\n",
    "pipe.fit(X_train, y_train)\n",
    "\n",
    "\n",
    "\n",
    "train_accuracy_score = accuracy_score(y_train, pipe.predict(X_train))\n",
    "print(train_accuracy_score)\n",
    "# Predictions\n",
    "y_pred = pipe.predict(X_test)\n",
    "print(\"Accuracy Score:\" + \" \" +str(accuracy_score(y_test,y_pred)))\n",
    "Variable_comparaison.append(accuracy_score(y_test,y_pred))\n",
    "\n",
    "\n"
   ]
  },
  {
   "cell_type": "markdown",
   "metadata": {
    "id": "v_eNdFSz8yl0"
   },
   "source": [
    " "
   ]
  },
  {
   "cell_type": "markdown",
   "metadata": {},
   "source": [
    "### Other variables in our model ? "
   ]
  },
  {
   "cell_type": "markdown",
   "metadata": {},
   "source": [
    "In this rubric, we want to test other variables as location and Keyword. We have already cleaned the Keyword's problem (%20 for the space character). \n",
    "\n",
    "But we need to clean also the location variable. For attemping this, we gonna use the library pycountry and geocoder. We want to keep only the country. \n",
    "We saw in the data's exploration there is a lot of way to write the location ( United States of America can be written as US , Florida, United State, .....). \n",
    "\n",
    "We need to generalize that. "
   ]
  },
  {
   "cell_type": "markdown",
   "metadata": {
    "pycharm": {
     "is_executing": true
    }
   },
   "source": [
    "#### With Location : "
   ]
  },
  {
   "cell_type": "code",
   "execution_count": null,
   "metadata": {
    "colab": {
     "background_save": true,
     "base_uri": "https://localhost:8080/"
    },
    "id": "fnH-H-C_D0VG",
    "outputId": "66fb9da4-9712-47b9-ba41-99437312098e",
    "pycharm": {
     "is_executing": true
    }
   },
   "outputs": [],
   "source": [
    "#States USA: \n",
    "\n",
    "#Transformation en adresse:\n",
    "from geopy.geocoders import Nominatim\n",
    "geolocator = Nominatim(user_agent=\"svvv\")\n",
    "\n",
    "\n",
    "df_train[\"location\"].fillna(0)\n",
    "\n",
    "\n",
    "\n",
    "for i in range(len(df_train)):\n",
    "    if type(df_train.location.iloc[i]) == float:\n",
    "        df_train.location.iloc[i] = \"UnKnown\"\n",
    "    else:\n",
    "        try:\n",
    "            location = geolocator.geocode(df_train.location.iloc[i],language=\"en\")\n",
    "            df_train.location.iloc[i]=location.address\n",
    "            \n",
    "        except:\n",
    "            df_train.location.iloc[i] = \"UnKnown\"\n",
    "\n",
    "\n"
   ]
  },
  {
   "cell_type": "code",
   "execution_count": null,
   "metadata": {
    "pycharm": {
     "is_executing": true
    }
   },
   "outputs": [],
   "source": [
    "for i in range(len(df_train.location)):\n",
    "    \n",
    "    if df_train[\"location\"].iloc[i]== \"UnKnown\":\n",
    "        df_train[\"location\"].iloc[i]=df_train[\"location\"].iloc[i]\n",
    "    else:\n",
    "        x= df_train[\"location\"].iloc[i].split(\",\")\n",
    "        df_train[\"location\"].iloc[i]=x[-1]\n"
   ]
  },
  {
   "cell_type": "code",
   "execution_count": null,
   "metadata": {
    "pycharm": {
     "is_executing": true
    }
   },
   "outputs": [],
   "source": [
    "#Create our new variable: \n",
    "df_train[\"text_location\"] = df_train.text\n",
    "for i in range(len(df_train.text_location)):\n",
    "    df_train.text_location.iloc[i]=df_train.text.iloc[i] + \" \" + df_train.location.iloc[i]\n",
    "    \n",
    "for i in df_train.text_location:\n",
    "    print (i)\n",
    "df_train.text_location = df_train.text_location.apply(str)"
   ]
  },
  {
   "cell_type": "code",
   "execution_count": null,
   "metadata": {
    "pycharm": {
     "is_executing": true
    }
   },
   "outputs": [],
   "source": [
    "\n",
    "X = df_train[\"text_location\"] # the features we want to analyze\n",
    "ylabels = df_train['target_relabeled'] # the labels, or answers, we want to test against\n",
    "\n",
    "# Train test split\n",
    "X_train, X_test, y_train, y_test = train_test_split(X, ylabels, test_size=0.2, random_state=72)\n",
    "\n",
    "\n",
    "tfidf = TfidfVectorizer(tokenizer=spacy_tokenizer, \n",
    "                                   ngram_range=(1,3),\n",
    "                                   min_df=1, max_df=1.0, analyzer=\"word\")\n",
    "\n",
    "# Define classifier\n",
    "classifier = LogisticRegression(solver=\"lbfgs\", max_iter=5000, random_state=72)\n",
    "\n",
    "# Create pipeline\n",
    "pipe = Pipeline([('vectorizer', tfidf),\n",
    "                 ('classifier', classifier)])\n",
    "\n",
    "# Fit model on training set\n",
    "pipe.fit(X_train, y_train)\n",
    "\n",
    "\n",
    "\n",
    "train_accuracy_score = accuracy_score(y_train, pipe.predict(X_train))\n",
    "print(train_accuracy_score)\n",
    "# Predictions\n",
    "y_pred = pipe.predict(X_test)\n",
    "print(\"Pour l'essaie un l'accuracy est de\" + \" \" +str(accuracy_score(y_test,y_pred)))\n",
    "Variable_comparaison.append(accuracy_score(y_test,y_pred))\n",
    "\n",
    "\n",
    "\n",
    "\n"
   ]
  },
  {
   "cell_type": "markdown",
   "metadata": {
    "id": "7bp5KV4sHSLd"
   },
   "source": [
    "Our best Model is the LogisticRegression with the ngrams (1,3).Now we have a accurancy of 0.8138996138996138\n",
    "\n",
    "We go deeper on this model may be trying to go with a doc2vec for improvement. \n",
    "\n",
    "The submission for this accurancy is : "
   ]
  },
  {
   "cell_type": "markdown",
   "metadata": {},
   "source": [
    "#### With Keywords:"
   ]
  },
  {
   "cell_type": "code",
   "execution_count": null,
   "metadata": {
    "pycharm": {
     "is_executing": true
    }
   },
   "outputs": [],
   "source": [
    "df_train[\"text_key\"] = df_train.text\n",
    "for i in range(len(df_train.text_key)):\n",
    "    df_train.text_key.iloc[i]=df_train.text.iloc[i] + \" \" + df_train.keyword.iloc[i]\n",
    "\n",
    "\n",
    "    \n",
    "df_train.text_key = df_train.text_key.apply(str)"
   ]
  },
  {
   "cell_type": "code",
   "execution_count": null,
   "metadata": {
    "pycharm": {
     "is_executing": true
    }
   },
   "outputs": [],
   "source": [
    "X = df_train[\"text_key\"] # the features we want to analyze\n",
    "ylabels = df_train['target_relabeled'] \n",
    "\n",
    "# Train test split\n",
    "X_train, X_test, y_train, y_test = train_test_split(X, ylabels, test_size=0.2, random_state=72)\n",
    "\n",
    "\n",
    "tfidf = TfidfVectorizer(tokenizer=spacy_tokenizer, \n",
    "                                   ngram_range=(1,3),\n",
    "                                   min_df=1, max_df=1.0, analyzer=\"word\")\n",
    "\n",
    "# Define classifier\n",
    "classifier = LogisticRegression(solver=\"lbfgs\", max_iter=5000, random_state=72)\n",
    "\n",
    "# Create pipeline\n",
    "pipe = Pipeline([('vectorizer', tfidf),\n",
    "                 ('classifier', classifier)])\n",
    "\n",
    "# Fit model on training set\n",
    "pipe.fit(X_train, y_train)\n",
    "\n",
    "\n",
    "\n",
    "train_accuracy_score = accuracy_score(y_train, pipe.predict(X_train))\n",
    "print(train_accuracy_score)\n",
    "# Predictions\n",
    "y_pred = pipe.predict(X_test)\n",
    "print(\"Pour l'essaie un l'accuracy est de\" + \" \" +str(accuracy_score(y_test,y_pred)))\n",
    "Variable_comparaison.append(accuracy_score(y_test,y_pred))\n"
   ]
  },
  {
   "cell_type": "markdown",
   "metadata": {},
   "source": [
    "##### With Keyword and Location"
   ]
  },
  {
   "cell_type": "code",
   "execution_count": null,
   "metadata": {
    "pycharm": {
     "is_executing": true
    }
   },
   "outputs": [],
   "source": [
    "df_train[\"text_location_key\"] = df_train.text\n",
    "\n",
    "for i in range(len(df_train.text_location_key)):\n",
    "    df_train.text_location_key.iloc[i]=df_train.text.iloc[i] + \" \" + df_train.keyword.iloc[i] + \" \" + df_train.location.iloc[i]\n",
    "\n",
    "df_train.text_location_key = df_train.text_location_key.apply(str)"
   ]
  },
  {
   "cell_type": "code",
   "execution_count": null,
   "metadata": {
    "pycharm": {
     "is_executing": true
    }
   },
   "outputs": [],
   "source": [
    "X = df_train[\"text_location_key\"] # the features we want to analyze\n",
    "\n",
    "\n",
    "# Train test split\n",
    "X_train, X_test, y_train, y_test = train_test_split(X, ylabels, test_size=0.2, random_state=72)\n",
    "\n",
    "\n",
    "tfidf = TfidfVectorizer(tokenizer=spacy_tokenizer, \n",
    "                                   ngram_range=(1,3),\n",
    "                                   min_df=1, max_df=1.0, analyzer=\"word\")\n",
    "\n",
    "# Define classifier\n",
    "classifier = LogisticRegression(solver=\"lbfgs\", max_iter=5000, random_state=72)\n",
    "\n",
    "# Create pipeline\n",
    "pipe = Pipeline([('vectorizer', tfidf),\n",
    "                 ('classifier', classifier)])\n",
    "\n",
    "# Fit model on training set\n",
    "pipe.fit(X_train, y_train)\n",
    "\n",
    "\n",
    "\n",
    "train_accuracy_score = accuracy_score(y_train, pipe.predict(X_train))\n",
    "print(train_accuracy_score)\n",
    "\n",
    "\n",
    "\n",
    "\n",
    "# Predictions\n",
    "y_pred = pipe.predict(X_test)\n",
    "print(\"Pour l'essaie un l'accuracy est de\" + \" \" +str(accuracy_score(y_test,y_pred)))\n",
    "\n",
    "\n",
    "\n",
    "\n",
    "Variable_comparaison.append(accuracy_score(y_test,y_pred))\n",
    "\n"
   ]
  },
  {
   "cell_type": "code",
   "execution_count": null,
   "metadata": {
    "pycharm": {
     "is_executing": true
    }
   },
   "outputs": [],
   "source": [
    "for i in Variable_comparaison:\n",
    "    print(i)"
   ]
  },
  {
   "cell_type": "code",
   "execution_count": null,
   "metadata": {
    "pycharm": {
     "is_executing": true
    }
   },
   "outputs": [],
   "source": [
    "Name_var=[\"Text\",\"Location\", \"Keyword\", \"Text With location\",\"Text With Keywords\",\"Text With Key + Loc\"]\n",
    "plt.figure(figsize=(10, 5))\n",
    "plt.bar(Name_var, Variable_comparaison)\n",
    "label = ['0.813', '0.583', '0.733', '0.785', '0.806', '0,806']\n",
    "for i in range(len(Variable_comparaison)):\n",
    "    plt.text(x = Name_var[i] , y = Variable_comparaison[i], s=label[i], size = 10)\n",
    "plt.xticks( rotation=45)\n",
    "\n",
    "\n",
    "plt.show()"
   ]
  },
  {
   "cell_type": "markdown",
   "metadata": {},
   "source": [
    "When we used only the text, we have a better accuracy score. "
   ]
  },
  {
   "cell_type": "markdown",
   "metadata": {},
   "source": [
    "### Optimization: "
   ]
  },
  {
   "cell_type": "markdown",
   "metadata": {},
   "source": [
    "Now we have our classifier and the varibales we want to keep. \n",
    "\n",
    "It's time to optimize our selection. \n",
    "\n",
    "- Hyper-parameter tuning\n",
    "- Vector configuration \n",
    "- PCA "
   ]
  },
  {
   "cell_type": "markdown",
   "metadata": {},
   "source": [
    "#### Hyper Parameter tuning : "
   ]
  },
  {
   "cell_type": "code",
   "execution_count": null,
   "metadata": {
    "id": "gbKeO6BOMxL8",
    "pycharm": {
     "is_executing": true
    }
   },
   "outputs": [],
   "source": [
    "from sklearn.model_selection import GridSearchCV\n",
    "\n",
    "\n",
    "X = df_train[\"text\"] # the features we want to analyze\n",
    "ylabels = df_train['target_relabeled'] # the labels, or answers, we want to test against\n",
    "\n",
    "# Train test split\n",
    "X_train, X_test, y_train, y_test = train_test_split(X, ylabels, test_size=0.2, random_state=72)\n",
    "\n",
    "\n",
    "\n",
    "\n",
    "tfidf = TfidfVectorizer(tokenizer=spacy_tokenizer, \n",
    "                                   ngram_range=(1,3),\n",
    "                                   min_df=1, max_df=1.0, analyzer=\"word\")\n",
    "# Define classifier\n",
    "classifier = LogisticRegression()\n",
    "\n",
    "# Create pipeline\n",
    "pipe = Pipeline([('vectorizer', tfidf),\n",
    "                 ('classifier', classifier)])\n",
    "\n",
    "param_grid = [\n",
    "    {'classifier' : [LogisticRegression()],\n",
    "    'classifier__penalty' : [\"l1\", \"l2\", \"elasticnet\"],\n",
    "    'classifier__C' : np.logspace(-4, 4, 20),\n",
    "    'classifier__solver' : [\"newton-cg\", \"lbfgs\"]}]\n",
    "\n",
    "\n",
    "\n",
    "\n",
    "clf = GridSearchCV(pipe,param_grid = param_grid, cv = 6, verbose=True, n_jobs=-1, scoring='accuracy')\n",
    "\n",
    "best_model=clf.fit(X_train, y_train)\n",
    "\n",
    "print(clf.cv_results_)\n",
    "print('Best C:', clf.best_estimator_.get_params()['classifier__C'])\n",
    "print(); print(clf.best_estimator_.get_params()['classifier'])"
   ]
  },
  {
   "cell_type": "code",
   "execution_count": null,
   "metadata": {
    "pycharm": {
     "is_executing": true
    }
   },
   "outputs": [],
   "source": [
    "print(best_model.best_params_, best_model.best_score_)"
   ]
  },
  {
   "cell_type": "markdown",
   "metadata": {},
   "source": [
    "#### Vector configuration "
   ]
  },
  {
   "cell_type": "code",
   "execution_count": null,
   "metadata": {
    "colab": {
     "base_uri": "https://localhost:8080/",
     "height": 1000
    },
    "id": "0VKCSTOjAgoH",
    "outputId": "a4819319-0e20-4564-d327-d8442f772937",
    "pycharm": {
     "is_executing": true
    }
   },
   "outputs": [],
   "source": [
    "# Create list of configs\n",
    "def configs():\n",
    "\n",
    "    models = list()\n",
    "    \n",
    "    # Define config lists\n",
    "    ngram_range = [(1, 3)]\n",
    "    min_df = [1,2,3,4,5]\n",
    "    max_df = [1.0,2.0,3.0,4.0,5.0]\n",
    "    analyzer=['word', 'char']\n",
    "    \n",
    "    # Create config instances\n",
    "    for n in ngram_range:\n",
    "        for i in min_df:\n",
    "            for j in max_df:\n",
    "              for a in analyzer:\n",
    "                    cfg = [n, i, j, a]\n",
    "                    models.append(cfg)\n",
    "    return models\n",
    "\n",
    "configs = configs()\n",
    "# Define list for result\n",
    "result = []\n",
    "\n",
    "for config in configs:\n",
    "\n",
    "    # Redefine vectorizer\n",
    "    tfidf_vector = TfidfVectorizer(tokenizer=spacy_tokenizer, \n",
    "                                   ngram_range=config[0],\n",
    "                                   min_df=config[1], max_df=config[2], analyzer=config[3])\n",
    "\n",
    "    # Define classifier\n",
    "    classifier = LogisticRegression(solver=\"lbfgs\", max_iter=5000, random_state=72)\n",
    "\n",
    "    # Create pipeline\n",
    "    pipe = Pipeline([('vectorizer', tfidf_vector),\n",
    "                 ('classifier', classifier)])\n",
    "\n",
    "    # Fit model on training set\n",
    "    pipe.fit(X_train, y_train)\n",
    "\n",
    "    # Predictions\n",
    "    y_pred = pipe.predict(X_test)\n",
    "\n",
    "    # Print accuracy on test set\n",
    "    print(\"CONFIG: \", config)\n",
    "    evaluate(y_test, y_pred)\n",
    "    print(\"-----------------------\")\n",
    "\n",
    "    # Append to result\n",
    "    result.append([config, accuracy_score(y_test, y_pred)])"
   ]
  },
  {
   "cell_type": "markdown",
   "metadata": {},
   "source": [
    "#### Pca "
   ]
  },
  {
   "cell_type": "code",
   "execution_count": null,
   "metadata": {
    "pycharm": {
     "is_executing": true
    }
   },
   "outputs": [],
   "source": [
    "from sklearn.model_selection import GridSearchCV\n",
    "from sklearn.decomposition import PCA\n",
    "from sklearn.preprocessing import StandardScaler\n",
    "\n",
    "\n",
    "X = df_train[\"text\"] # the features we want to analyze\n",
    "ylabels = df_train['target'] # the labels, or answers, we want to test against\n",
    "\n",
    "# Train test split\n",
    "X_train, X_test, y_train, y_test = train_test_split(X, ylabels, test_size=0.2, random_state=72)\n",
    "\n",
    "\n",
    "\n",
    "\n",
    "tfidf = TfidfVectorizer(tokenizer=spacy_tokenizer, \n",
    "                                   ngram_range=(1,3),\n",
    "                                   min_df=1, max_df=1.0, analyzer=\"word\")\n",
    "\n",
    "\n",
    "\n",
    "X_train = tfidf.fit_transform(X_train).toarray()\n",
    "X_test = tfidf.transform(X_test).toarray()\n",
    "\n",
    "\n",
    "# Define classifier\n",
    "classifier = LogisticRegression(solver=\"lbfgs\", max_iter=5000, random_state=72)\n",
    "\n",
    "\n",
    "\n",
    "# define Model\n",
    "# define Model\n",
    "pipe = Pipeline([\n",
    "                 ('scaler', StandardScaler()),\n",
    "                 ('pca', PCA(n_components=1)),\n",
    "                 ('logistic reg', classifier)\n",
    "                 ])\n",
    "# Fit model on training set\n",
    "pipe.fit(X_train, y_train)\n",
    "\n",
    "\n",
    "\n",
    "train_accuracy_score = accuracy_score(y_train, pipe.predict(X_train))\n",
    "print(train_accuracy_score)\n",
    "# Predictions\n",
    "y_pred = pipe.predict(X_test)\n",
    "print(\"Accuracy Score\" + \" \" +str(accuracy_score(y_test,y_pred)))"
   ]
  },
  {
   "cell_type": "code",
   "execution_count": null,
   "metadata": {
    "pycharm": {
     "is_executing": true
    }
   },
   "outputs": [],
   "source": [
    "from sklearn.model_selection import GridSearchCV\n",
    "from sklearn.decomposition import PCA\n",
    "from sklearn.preprocessing import StandardScaler\n",
    "\n",
    "\n",
    "X = df_train[\"text_key\"] # the features we want to analyze\n",
    "ylabels = df_train['target_relabeled'] # the labels, or answers, we want to test against\n",
    "\n",
    "# Train test split\n",
    "X_train, X_test, y_train, y_test = train_test_split(X, ylabels, test_size=0.2, random_state=72)\n",
    "\n",
    "\n",
    "\n",
    "\n",
    "tfidf = TfidfVectorizer(tokenizer=spacy_tokenizer, \n",
    "                                   ngram_range=(1,3),\n",
    "                                   min_df=1, max_df=1.0, analyzer=\"word\")\n",
    "\n",
    "\n",
    "\n",
    "X_train = tfidf.fit_transform(X_train).toarray()\n",
    "X_test = tfidf.transform(X_test).toarray()\n",
    "# Define classifier\n",
    "\n",
    "\n",
    "\n",
    "# define Model\n",
    "# define Model\n",
    "pipe = Pipeline([\n",
    "                 ('scaler', StandardScaler()),\n",
    "                 ('pca', PCA(n_components=0.81)),\n",
    "                 ('logistic reg', LogisticRegressionCV(max_iter=5000, cv=5, n_jobs=-1))\n",
    "                 ])\n",
    "# Fit model on training set\n",
    "pipe.fit(X_train, y_train)\n",
    "\n",
    "\n",
    "\n",
    "train_accuracy_score = accuracy_score(y_train, pipe.predict(X_train))\n",
    "print(train_accuracy_score)\n",
    "# Predictions\n",
    "y_pred = pipe.predict(X_test)\n",
    "print(\"Accuracy Score\" + \" \" +str(accuracy_score(y_test,y_pred)))"
   ]
  },
  {
   "cell_type": "code",
   "execution_count": null,
   "metadata": {
    "pycharm": {
     "is_executing": true
    }
   },
   "outputs": [],
   "source": [
    "from sklearn.model_selection import GridSearchCV\n",
    "from sklearn.decomposition import PCA\n",
    "from sklearn.preprocessing import StandardScaler\n",
    "\n",
    "\n",
    "X = df_train[\"text_keyword\"] # the features we want to analyze\n",
    "ylabels = df_train['target_relabeled'] # the labels, or answers, we want to test against\n",
    "\n",
    "# Train test split\n",
    "X_train, X_test, y_train, y_test = train_test_split(X, ylabels, test_size=0.2, random_state=72)\n",
    "\n",
    "\n",
    "\n",
    "\n",
    "tfidf = TfidfVectorizer(tokenizer=spacy_tokenizer, \n",
    "                                   ngram_range=(1,3),\n",
    "                                   min_df=1, max_df=1.0, analyzer=\"word\")\n",
    "\n",
    "\n",
    "\n",
    "X_train = tfidf.fit_transform(X_train).toarray()\n",
    "X_test = tfidf.transform(X_test).toarray()\n",
    "# Define classifier\n",
    "\n",
    "\n",
    "\n",
    "# define Model\n",
    "# define Model\n",
    "pipe = Pipeline([\n",
    "                 ('scaler', StandardScaler()),\n",
    "                 ('pca', PCA(n_components=0.99)),\n",
    "                 ('logistic reg', LogisticRegressionCV(max_iter=5000, cv=5, n_jobs=-1)),\n",
    "                 ])\n",
    "# Fit model on training set\n",
    "pipe.fit(X_train, y_train)\n",
    "\n",
    "\n",
    "\n",
    "train_accuracy_score = accuracy_score(y_train, pipe.predict(X_train))\n",
    "print(train_accuracy_score)\n",
    "# Predictions\n",
    "y_pred = pipe.predict(X_test)\n",
    "print(\"Accuracy Score\" + \" \" +str(accuracy_score(y_test,y_pred)))"
   ]
  },
  {
   "cell_type": "markdown",
   "metadata": {},
   "source": [
    "# Unsupervised Part"
   ]
  },
  {
   "cell_type": "markdown",
   "metadata": {
    "id": "FmsCMGHDjTeh"
   },
   "source": [
    "## Dic 2 vec"
   ]
  },
  {
   "cell_type": "markdown",
   "metadata": {
    "id": "RAJ1j6T9wJ87"
   },
   "source": [
    "Classification using Doc2Vec and Logistic Regression"
   ]
  },
  {
   "cell_type": "code",
   "execution_count": null,
   "metadata": {
    "colab": {
     "background_save": true,
     "base_uri": "https://localhost:8080/"
    },
    "id": "rfGXq2c1wJww",
    "outputId": "a322bb59-a624-4761-ae41-987d67dfd8f9",
    "pycharm": {
     "is_executing": true
    }
   },
   "outputs": [],
   "source": [
    "from gensim.models.doc2vec import TaggedDocument\n",
    "sample_tagged = df_train.apply(lambda r: TaggedDocument(words=spacy_tokenizer(r.text), tags=[r.target_relabeled]), axis=1)\n",
    "print(sample_tagged.head(20))"
   ]
  },
  {
   "cell_type": "code",
   "execution_count": null,
   "metadata": {
    "colab": {
     "base_uri": "https://localhost:8080/"
    },
    "id": "CuQ-XfUtx4D1",
    "outputId": "3052ec64-97ce-4a4c-9b6f-273008ed09c6",
    "pycharm": {
     "is_executing": true
    }
   },
   "outputs": [],
   "source": [
    "train_tagged, test_tagged = train_test_split(sample_tagged, test_size=0.2, random_state=72)\n",
    "\n",
    "train_tagged"
   ]
  },
  {
   "cell_type": "code",
   "execution_count": null,
   "metadata": {
    "id": "RRPQEX2NyA3x",
    "pycharm": {
     "is_executing": true
    }
   },
   "outputs": [],
   "source": [
    "import multiprocessing\n",
    "cores = multiprocessing.cpu_count()"
   ]
  },
  {
   "cell_type": "code",
   "execution_count": null,
   "metadata": {
    "id": "PLT7IGSlyDz5",
    "pycharm": {
     "is_executing": true
    }
   },
   "outputs": [],
   "source": [
    "# Define Doc2Vec and build vocabulary\n",
    "from gensim.models import Doc2Vec\n",
    "\n",
    "model_dbow = Doc2Vec(dm=0, vector_size=30, negative=6, hs=0, min_count=1, sample=0, workers=cores, epoch=1000)\n",
    "model_dbow.build_vocab([x for x in train_tagged.values])\n",
    "\n",
    "# Train distributed Bag of Word model\n",
    "model_dbow.train(train_tagged, total_examples=model_dbow.corpus_count, epochs=model_dbow.epochs)"
   ]
  },
  {
   "cell_type": "code",
   "execution_count": null,
   "metadata": {
    "id": "EUSvweF4yNek",
    "pycharm": {
     "is_executing": true
    }
   },
   "outputs": [],
   "source": [
    "# Select X and y\n",
    "def vec_for_learning(model, tagged_docs):\n",
    "    sents = tagged_docs.values\n",
    "    targets, regressors = zip(*[(doc.tags[0], model.infer_vector(doc.words, steps=100)) for doc in sents])\n",
    "    return targets, regressors\n",
    "\n",
    "y_train, X_train = vec_for_learning(model_dbow, train_tagged)\n",
    "y_test, X_test = vec_for_learning(model_dbow, test_tagged)"
   ]
  },
  {
   "cell_type": "code",
   "execution_count": null,
   "metadata": {
    "colab": {
     "base_uri": "https://localhost:8080/",
     "height": 894
    },
    "id": "2x70rs3nyQ5b",
    "outputId": "f4a7f815-a50b-4be2-a3c8-b8df230189d5",
    "pycharm": {
     "is_executing": true
    }
   },
   "outputs": [],
   "source": [
    "# Fit model on training set - same algorithm as before\n",
    "logreg = LogisticRegression(C= 1,63 max_iter=5000, solver='lbfgs', random_state=72)\n",
    "logreg.fit(X_train, y_train)\n",
    "\n",
    "# Predictions\n",
    "y_pred = logreg.predict(X_test)\n",
    "\n",
    "# Evaluate model\n",
    "\n",
    "\n",
    "print(accuracy_score(y_test, y_pred))\n",
    "conf_mat = confusion_matrix(y_test, y_pred)\n",
    "fig, ax = plt.subplots(figsize=(15,15))\n",
    "sns.heatmap(conf_mat, annot=True, fmt='d')\n",
    "plt.ylabel('Actual')\n",
    "plt.xlabel('Predicted')\n",
    "plt.show()\n",
    "\n",
    "#best 0.810 with clean text"
   ]
  },
  {
   "cell_type": "code",
   "execution_count": null,
   "metadata": {
    "pycharm": {
     "is_executing": true
    }
   },
   "outputs": [],
   "source": [
    "#Pca from the lecture :\n",
    "from sklearn.linear_model import LogisticRegression\n",
    "from sklearn.preprocessing import StandardScaler\n",
    "from sklearn.pipeline import Pipeline\n",
    "import time\n",
    "from sklearn.feature_extraction.text import TfidfVectorizer\n",
    "# Import and download packages\n",
    "import re\n",
    "import nltk\n",
    "\n",
    "from nltk.corpus import stopwords\n",
    "from sklearn.decomposition import PCA\n",
    "\n",
    "X_train, X_test, y_train, y_test = train_test_split(X, ylabels, test_size=0.2, random_state=72)\n",
    "\n",
    "# Define cleaning function\n",
    "\n",
    "\n",
    "# Define Scaler\n",
    "scaler = StandardScaler()\n",
    "\n",
    "# Define PCA\n",
    "pca = PCA(n_components=1)\n",
    "\n",
    "# Example on X_train_vec\n",
    "\n",
    "\n",
    "# Define vectorizer - use above cleaning function\n",
    "tfidf = TfidfVectorizer(tokenizer=spacy_tokenizer, ngram_range=(1,1), min_df=3, max_df=0.9)\n",
    "\n",
    "# Fit and transform X_train and X_test\n",
    "\n",
    "X_train_vec = tfidf.fit_transform(X_train).toarray()\n",
    "X_test_vec = tfidf.transform(X_test).toarray()\n",
    "\n",
    "\n",
    "# Define Model\n",
    "pipe = Pipeline([\n",
    "                 ('classifier', classifier)])\n",
    "# Fit model\n",
    "start = time.time()\n",
    "pipe.fit(X_train_vec, y_train)\n",
    "end = time.time()\n",
    "print('Time: ', round(end-start, 4))\n",
    "print('Train Accuracy: ', round(pipe.score(X_train_vec, y_train), 4))\n",
    "print('Test Accuracy: ', round(pipe.score(X_test_vec, y_test), 4))\n"
   ]
  },
  {
   "cell_type": "code",
   "execution_count": null,
   "metadata": {
    "pycharm": {
     "is_executing": true
    }
   },
   "outputs": [],
   "source": [
    "# With Standardization\n",
    "from sklearn.linear_model import LogisticRegression\n",
    "from sklearn.pipeline import Pipeline\n",
    "import time\n",
    "\n",
    "# Define Model\n",
    "pipe = Pipeline([('scaler', scaler),\n",
    "                 ('logistic reg', LogisticRegression())\n",
    "                 ])\n",
    "# Fit model\n",
    "start = time.time()\n",
    "pipe.fit(X_train_vec, y_train)\n",
    "end = time.time()\n",
    "print('Time: ', round(end-start, 4))\n",
    "print('Train Accuracy: ', round(pipe.score(X_train_vec, y_train), 4))\n",
    "print('Test Accuracy: ', round(pipe.score(X_test_vec, y_test), 4))"
   ]
  },
  {
   "cell_type": "markdown",
   "metadata": {
    "id": "9SoRWGJIJ9md"
   },
   "source": [
    "# Submission"
   ]
  },
  {
   "cell_type": "markdown",
   "metadata": {
    "id": "Y2xWTp9sKSej"
   },
   "source": [
    "![Unknown.jpg](data:image/jpeg;base64,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)"
   ]
  },
  {
   "cell_type": "code",
   "execution_count": null,
   "metadata": {
    "colab": {
     "base_uri": "https://localhost:8080/",
     "height": 232
    },
    "id": "S7tUJOCtKBgV",
    "outputId": "856b2d56-e50c-4902-f84a-c4003d0d9d0d",
    "pycharm": {
     "is_executing": true
    }
   },
   "outputs": [],
   "source": [
    "from sklearn.feature_extraction.text import CountVectorizer\n",
    "from sklearn.linear_model import LogisticRegression\n",
    "from sklearn.pipeline import Pipeline\n",
    "\n",
    "from sklearn.base import TransformerMixin\n",
    "from sklearn.pipeline import Pipeline\n",
    "import string\n",
    "from spacy.lang.en.stop_words import STOP_WORDS\n",
    "from spacy.lang.en import English\n",
    "from sklearn.model_selection import train_test_split\n",
    "from sklearn.linear_model import LogisticRegression, LogisticRegressionCV\n",
    "from sklearn.metrics import confusion_matrix, accuracy_score, precision_score, recall_score, f1_score\n",
    "import pandas as pd\n",
    "import numpy as np\n",
    "from sklearn.feature_extraction.text import CountVectorizer,TfidfVectorizer\n",
    "import spacy\n",
    "from nltk.stem import PorterStemmer \n",
    "from nltk.tokenize import word_tokenize \n",
    "\n",
    "Model_base_rate=0.8084942084942085\n",
    "\n",
    "sp = spacy.load('en_core_web_sm')\n",
    "message= str(df_train[\"text\"])\n",
    "my_word= sp(message)\n",
    "stop_words = spacy.lang.en.stop_words.STOP_WORDS\n",
    "punctuations = string.punctuation\n",
    "\n",
    "\n",
    "def spacy_tokenizer(sentence):\n",
    "    # Create token object, which is used to create documents with linguistic annotations.\n",
    "    mytokens = sp(sentence)\n",
    "\n",
    "    # Lemmatize each token and convert each token into lowercase\n",
    "    mytokens = [ word.lemma_.lower().strip() and word.lower_ for word in mytokens ]\n",
    "\n",
    "    # Remove stop words and punctuation\n",
    "    mytokens = [ word for word in mytokens if word not in stop_words and word not in punctuations ]\n",
    "\n",
    "    mytokens = [ word for word in mytokens if len(word)>2 ]\n",
    "\n",
    "\n",
    "\n",
    "\n",
    "\n",
    "    # Return preprocessed list of tokens\n",
    "    return mytokens\n",
    "\n",
    "\n",
    "\n",
    "X = df_train[\"text\"] # the features we want to analyze\n",
    "ylabels = df_train['target_relabeled'] # the labels, or answers, we want to test against\n",
    "\n",
    "# Train test split\n",
    "X_train, X_test, y_train, y_test = train_test_split(X, ylabels, test_size=0.2, random_state=72)\n",
    "\n",
    "\n",
    "tfidf = TfidfVectorizer(tokenizer=spacy_tokenizer, \n",
    "                                   ngram_range=(1,3),\n",
    "                                   min_df=1, max_df=1.0, analyzer=\"word\")\n",
    "\n",
    "# Define classifier\n",
    "classifier = LogisticRegression(solver=\"lbfgs\", max_iter=5000, random_state=72)\n",
    "\n",
    "# Create pipeline\n",
    "pipe = Pipeline([('vectorizer', tfidf),\n",
    "                 ('classifier', classifier)])\n",
    "\n",
    "# Fit model on training set\n",
    "pipe.fit(X_train, y_train)\n",
    "\n",
    "#Essai 1:\n",
    "\n",
    "# Evaluate the model\n",
    "def evaluate(true, pred):\n",
    "    precision = precision_score(true, pred)\n",
    "    recall = recall_score(true, pred)\n",
    "    f1 = f1_score(true, pred)\n",
    "    print(f\"CONFUSION MATRIX:\\n{confusion_matrix(true, pred)}\")\n",
    "    print(f\"ACCURACY SCORE:\\n{accuracy_score(true, pred):.4f}\")\n",
    "    print(f\"CLASSIFICATION REPORT:\\n\\tPrecision: {precision:.4f}\\n\\tRecall: {recall:.4f}\\n\\tF1_Score: {f1:.4f}\")\n",
    "#Essai 1:\n",
    "\n",
    "train_accuracy_score = accuracy_score(y_train, pipe.predict(X_train))\n",
    "print(train_accuracy_score)\n",
    "# Predictions\n",
    "y_pred = pipe.predict(X_test)\n",
    "print(\"Pour l'essaie un l'accurancy est de\" + \" \" +str(accuracy_score(y_test,y_pred)))\n",
    "def New_model(x):\n",
    "  if x>Model_base_rate:\n",
    "    print(\"There is a improvement of \"+str(accuracy_score(y_test,y_pred)-Model_base_rate))\n",
    "  else: \n",
    "    print(\"There's no improvement \")\n",
    "New_model(accuracy_score(y_test,y_pred))"
   ]
  },
  {
   "cell_type": "code",
   "execution_count": null,
   "metadata": {
    "colab": {
     "base_uri": "https://localhost:8080/"
    },
    "id": "ZmrWqHkbKMAH",
    "outputId": "b502e45d-cc3a-4429-fff2-53d19f7f3da4",
    "pycharm": {
     "is_executing": true
    }
   },
   "outputs": [],
   "source": [
    "X_test=df_test[\"text\"]\n",
    "sentiment_pred = pipe.predict(X_test)\n",
    "\n",
    "print(\"The training accuracy is\", train_accuracy_score)\n",
    "\n",
    "soumission = pd.DataFrame(sentiment_pred, columns=[\"target\"])\n",
    "\n",
    "soumission.to_csv('soumission30.csv')\n",
    "!cp soumission30.csv \"drive/My Drive/\""
   ]
  },
  {
   "cell_type": "code",
   "execution_count": null,
   "metadata": {
    "pycharm": {
     "is_executing": true
    }
   },
   "outputs": [],
   "source": []
  },
  {
   "cell_type": "code",
   "execution_count": null,
   "metadata": {
    "pycharm": {
     "is_executing": true
    },
    "scrolled": false
   },
   "outputs": [],
   "source": [
    "# Install a pip package in the current Jupyter kernel\n",
    "import sys\n",
    "!{sys.executable} -m pip install numpy\n",
    "!{sys.executable} -m pip install sklearn\n",
    "!{sys.executable} -m pip install pandas\n",
    "!{sys.executable} -m pip install matplotlib\n",
    "!{sys.executable} -m pip install spacy\n",
    "!{sys.executable} -m pip install seaborn\n",
    "!{sys.executable} -m pip install nltk\n",
    "!{sys.executable} -m pip install wordcloud\n",
    "!{sys.executable} -m pip install re\n",
    "!{sys.executable} -m pip install gensim\n",
    "!{sys.executable} -m pip install tqdm\n",
    "!{sys.executable} -m pip install pycountry\n",
    "!{sys.executable} -m pip install geopy\n",
    "!{sys.executable} -m pip install ipympl\n",
    "\n"
   ]
  },
  {
   "cell_type": "code",
   "execution_count": null,
   "metadata": {
    "pycharm": {
     "is_executing": true
    }
   },
   "outputs": [],
   "source": []
  }
 ],
 "metadata": {
  "colab": {
   "collapsed_sections": [],
   "name": "ML PRoject v.2",
   "provenance": []
  },
  "kernelspec": {
   "display_name": "Python 3",
   "language": "python",
   "name": "python3"
  },
  "language_info": {
   "codemirror_mode": {
    "name": "ipython",
    "version": 3
   },
   "file_extension": ".py",
   "mimetype": "text/x-python",
   "name": "python",
   "nbconvert_exporter": "python",
   "pygments_lexer": "ipython3",
   "version": "3.9.0"
  }
 },
 "nbformat": 4,
 "nbformat_minor": 4
}
